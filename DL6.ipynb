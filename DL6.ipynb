{
 "cells": [
  {
   "cell_type": "code",
   "execution_count": 3,
   "metadata": {},
   "outputs": [],
   "source": [
    "import tensorflow as tf\n",
    "from tensorflow.keras.layers import Conv2D , Dense , Flatten , MaxPool2D , Dropout \n",
    "from tensorflow.keras.preprocessing.image import ImageDataGenerator\n",
    "from tensorflow.keras.models import Sequential\n"
   ]
  },
  {
   "cell_type": "code",
   "execution_count": 5,
   "metadata": {},
   "outputs": [],
   "source": [
    "trainPath = r\"D:\\Work\\python\\dl_clg\\datasets\\x_ray\\6 Pneumonia_X_Ray\\train\"\n",
    "testPath = r\"D:\\Work\\python\\dl_clg\\datasets\\x_ray\\6 Pneumonia_X_Ray\\test\"\n",
    "data_generator = ImageDataGenerator(rescale=1.0/255)"
   ]
  },
  {
   "cell_type": "code",
   "execution_count": 6,
   "metadata": {},
   "outputs": [
    {
     "name": "stdout",
     "output_type": "stream",
     "text": [
      "Found 2040 images belonging to 2 classes.\n",
      "Found 484 images belonging to 2 classes.\n"
     ]
    }
   ],
   "source": [
    "train_data = data_generator.flow_from_directory(trainPath,\n",
    "                            target_size=(224, 224),\n",
    "                            batch_size=32,\n",
    "                            class_mode='binary'\n",
    "                            )\n",
    "test_data = data_generator.flow_from_directory(\n",
    "    testPath,\n",
    "    target_size=(224, 224),\n",
    "    batch_size=32,\n",
    "    class_mode='binary'\n",
    ")"
   ]
  },
  {
   "cell_type": "code",
   "execution_count": 12,
   "metadata": {},
   "outputs": [],
   "source": [
    "model = Sequential([\n",
    "    Conv2D(64,(3,3) , input_shape=(224,224,3) , activation='relu'),\n",
    "    MaxPool2D(pool_size=(3,3)),\n",
    "    \n",
    "    Conv2D(32,(3,3) , activation='relu'),\n",
    "    MaxPool2D(pool_size=(3,3)),\n",
    "    \n",
    "    Flatten(),\n",
    "    \n",
    "    Dense(128 , activation=\"relu\"),\n",
    "    Dropout(0.3),\n",
    "    \n",
    "    Dense(64, activation=\"relu\"),\n",
    "    \n",
    "    Dense( 1, activation=\"sigmoid\")\n",
    "])"
   ]
  },
  {
   "cell_type": "code",
   "execution_count": 13,
   "metadata": {},
   "outputs": [],
   "source": [
    "model.compile(loss='binary_crossentropy' , optimizer='adam' , metrics=['accuracy'])"
   ]
  },
  {
   "cell_type": "code",
   "execution_count": 14,
   "metadata": {},
   "outputs": [
    {
     "name": "stdout",
     "output_type": "stream",
     "text": [
      "Epoch 1/5\n",
      "64/64 [==============================] - 51s 613ms/step - loss: 0.3595 - accuracy: 0.8672 - val_loss: 0.8110 - val_accuracy: 0.6653\n",
      "Epoch 2/5\n",
      "64/64 [==============================] - 20s 309ms/step - loss: 0.1839 - accuracy: 0.9270 - val_loss: 0.6865 - val_accuracy: 0.7149\n",
      "Epoch 3/5\n",
      "64/64 [==============================] - 18s 279ms/step - loss: 0.1154 - accuracy: 0.9544 - val_loss: 1.4105 - val_accuracy: 0.6054\n",
      "Epoch 4/5\n",
      "64/64 [==============================] - 17s 263ms/step - loss: 0.0898 - accuracy: 0.9686 - val_loss: 1.5639 - val_accuracy: 0.6260\n",
      "Epoch 5/5\n",
      "64/64 [==============================] - 15s 239ms/step - loss: 0.0684 - accuracy: 0.9706 - val_loss: 1.6161 - val_accuracy: 0.6632\n"
     ]
    }
   ],
   "source": [
    "history = model.fit(train_data , epochs=5, batch_size=32, validation_data=test_data)"
   ]
  },
  {
   "cell_type": "code",
   "execution_count": 15,
   "metadata": {},
   "outputs": [
    {
     "data": {
      "text/plain": [
       "[<matplotlib.lines.Line2D at 0x1c76e911330>]"
      ]
     },
     "execution_count": 15,
     "metadata": {},
     "output_type": "execute_result"
    },
    {
     "data": {
      "image/png": "[encoded data removed]",
      "text/plain": [
       "<Figure size 640x480 with 1 Axes>"
      ]
     },
     "metadata": {},
     "output_type": "display_data"
    }
   ],
   "source": [
    "import matplotlib.pyplot as plt\n",
    "\n",
    "plt.subplot(1,2,2)\n",
    "plt.plot(history.history['accuracy'] , label='accuracy')\n",
    "plt.plot(history.history['val_accuracy'] , label='val accuracy')"
   ]
  }
 ],
 "metadata": {
  "kernelspec": {
   "display_name": "tf_env",
   "language": "python",
   "name": "python3"
  },
  "language_info": {
   "codemirror_mode": {
    "name": "ipython",
    "version": 3
   },
   "file_extension": ".py",
   "mimetype": "text/x-python",
   "name": "python",
   "nbconvert_exporter": "python",
   "pygments_lexer": "ipython3",
   "version": "3.10.0"
  }
 },
 "nbformat": 4,
 "nbformat_minor": 2
}
