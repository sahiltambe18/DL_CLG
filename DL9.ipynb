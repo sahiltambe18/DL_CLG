{
 "cells": [
  {
   "cell_type": "code",
   "execution_count": 9,
   "metadata": {},
   "outputs": [],
   "source": [
    "import numpy as np\n",
    "import pandas as pd\n",
    "from tensorflow.keras import layers,models\n",
    "import tensorflow as tf\n",
    "from tensorflow.keras.models import Sequential\n",
    "from sklearn.model_selection import train_test_split\n",
    "from sklearn.preprocessing import StandardScaler\n"
   ]
  },
  {
   "cell_type": "code",
   "execution_count": 10,
   "metadata": {},
   "outputs": [],
   "source": [
    "data  = pd.read_csv(\"datasets/creditCard/creditcard.csv\")\n",
    "\n",
    "x = data.drop(columns=['Time','Class'])\n",
    "y = data['Class']"
   ]
  },
  {
   "cell_type": "code",
   "execution_count": 11,
   "metadata": {},
   "outputs": [],
   "source": [
    "#Standardize the features\n",
    "scaler = StandardScaler()\n",
    "x = scaler.fit_transform(x)\n",
    "\n",
    "# seperate normal and fraud transactions\n",
    "x_normal = x[y==0]\n",
    "x_fraud = x[y==1]"
   ]
  },
  {
   "cell_type": "code",
   "execution_count": 12,
   "metadata": {},
   "outputs": [],
   "source": [
    "x_train , x_test = train_test_split(x_normal , test_size=.25 , random_state=42)\n",
    "inputShape = x_train.shape[1]"
   ]
  },
  {
   "cell_type": "code",
   "execution_count": 13,
   "metadata": {},
   "outputs": [],
   "source": [
    "def autoEncoder_builder(ipShape):\n",
    "    model = Sequential()\n",
    "    #encoder layers\n",
    "    model.add(layers.Input(shape=(ipShape,)))\n",
    "    model.add(layers.Dense(32 , activation='relu'))\n",
    "    model.add(layers.Dense(16 , activation='relu'))\n",
    "    model.add(layers.Dense(8 , activation='relu'))\n",
    "    #decoder layers\n",
    "    model.add(layers.Dense(16, activation='relu'))\n",
    "    model.add(layers.Dense(32, activation='relu'))\n",
    "    model.add(layers.Dense(ipShape, activation='sigmoid'))\n",
    "    \n",
    "    return model\n"
   ]
  },
  {
   "cell_type": "code",
   "execution_count": 14,
   "metadata": {},
   "outputs": [
    {
     "name": "stdout",
     "output_type": "stream",
     "text": [
      "Model: \"sequential_1\"\n",
      "_________________________________________________________________\n",
      " Layer (type)                Output Shape              Param #   \n",
      "=================================================================\n",
      " dense_6 (Dense)             (None, 32)                960       \n",
      "                                                                 \n",
      " dense_7 (Dense)             (None, 16)                528       \n",
      "                                                                 \n",
      " dense_8 (Dense)             (None, 8)                 136       \n",
      "                                                                 \n",
      " dense_9 (Dense)             (None, 16)                144       \n",
      "                                                                 \n",
      " dense_10 (Dense)            (None, 32)                544       \n",
      "                                                                 \n",
      " dense_11 (Dense)            (None, 29)                957       \n",
      "                                                                 \n",
      "=================================================================\n",
      "Total params: 3,269\n",
      "Trainable params: 3,269\n",
      "Non-trainable params: 0\n",
      "_________________________________________________________________\n"
     ]
    }
   ],
   "source": [
    "autoEncoder = autoEncoder_builder(inputShape)\n",
    "autoEncoder.compile(optimizer='adam',loss=\"mse\")\n",
    "autoEncoder.summary() "
   ]
  },
  {
   "cell_type": "code",
   "execution_count": 15,
   "metadata": {},
   "outputs": [
    {
     "name": "stdout",
     "output_type": "stream",
     "text": [
      "Epoch 1/5\n",
      "6664/6664 [==============================] - 36s 5ms/step - loss: 0.8212 - val_loss: 0.7737\n",
      "Epoch 2/5\n",
      "6664/6664 [==============================] - 35s 5ms/step - loss: 0.7682 - val_loss: 0.7598\n",
      "Epoch 3/5\n",
      "6664/6664 [==============================] - 34s 5ms/step - loss: 0.7600 - val_loss: 0.7551\n",
      "Epoch 4/5\n",
      "6664/6664 [==============================] - 35s 5ms/step - loss: 0.7560 - val_loss: 0.7528\n",
      "Epoch 5/5\n",
      "6664/6664 [==============================] - 34s 5ms/step - loss: 0.7506 - val_loss: 0.7439\n"
     ]
    }
   ],
   "source": [
    "\n",
    "history = autoEncoder.fit(x_train,x_train, epochs=5, batch_size=32,shuffle=1, validation_data=(x_test,x_test) , verbose=1)"
   ]
  },
  {
   "cell_type": "code",
   "execution_count": 16,
   "metadata": {},
   "outputs": [
    {
     "data": {
      "image/png": "[encoded data removed]",
      "text/plain": [
       "<Figure size 640x480 with 1 Axes>"
      ]
     },
     "metadata": {},
     "output_type": "display_data"
    }
   ],
   "source": [
    "import matplotlib.pyplot as plt\n",
    "\n",
    "plt.plot(history.history['loss'], label='Training Loss')\n",
    "plt.plot(history.history['val_loss'], label='Validation Loss')\n",
    "plt.xlabel('Epochs')\n",
    "plt.ylabel('Loss')\n",
    "plt.legend()\n",
    "plt.show()"
   ]
  },
  {
   "cell_type": "code",
   "execution_count": 17,
   "metadata": {},
   "outputs": [
    {
     "name": "stdout",
     "output_type": "stream",
     "text": [
      "2222/2222 [==============================] - 4s 2ms/step\n",
      "Reconstruction error threshold: 1.6023210520013131\n"
     ]
    }
   ],
   "source": [
    "# Calculate reconstruction error on the normal test set\n",
    "reconstructions = autoEncoder.predict(x_test)\n",
    "mse = np.mean(np.power(x_test - reconstructions, 2), axis=1)\n",
    "\n",
    "# Set a threshold as the 95th percentile of the reconstruction error\n",
    "threshold = np.percentile(mse, 95)\n",
    "print(f\"Reconstruction error threshold: {threshold}\")\n"
   ]
  },
  {
   "cell_type": "code",
   "execution_count": 21,
   "metadata": {},
   "outputs": [
    {
     "name": "stdout",
     "output_type": "stream",
     "text": [
      "8901/8901 [==============================] - 14s 2ms/step\n"
     ]
    }
   ],
   "source": [
    "# Calculate reconstruction error on the full dataset\n",
    "x_reconstructions = autoEncoder.predict(x)\n",
    "mse_all = np.mean(np.power(x - x_reconstructions, 2), axis=1)\n",
    "\n",
    "# Detect anomalies\n",
    "y_pred = [1 if error > threshold else 0 for error in mse_all]\n",
    "\n",
    "\n"
   ]
  },
  {
   "cell_type": "code",
   "execution_count": 19,
   "metadata": {},
   "outputs": [
    {
     "name": "stdout",
     "output_type": "stream",
     "text": [
      "              precision    recall  f1-score   support\n",
      "\n",
      "           0       1.00      0.95      0.97    284315\n",
      "           1       0.03      0.88      0.06       492\n",
      "\n",
      "    accuracy                           0.95    284807\n",
      "   macro avg       0.51      0.91      0.52    284807\n",
      "weighted avg       1.00      0.95      0.97    284807\n",
      "\n"
     ]
    }
   ],
   "source": [
    "# Evaluate results\n",
    "from sklearn.metrics import classification_report, confusion_matrix\n",
    "# print(confusion_matrix(y, y_pred))\n",
    "print(classification_report(y, y_pred))"
   ]
  },
  {
   "cell_type": "code",
   "execution_count": 22,
   "metadata": {},
   "outputs": [
    {
     "data": {
      "text/plain": [
       "array([[270144,  14171],\n",
       "       [    61,    431]], dtype=int64)"
      ]
     },
     "execution_count": 22,
     "metadata": {},
     "output_type": "execute_result"
    }
   ],
   "source": [
    "confusion_matrix(y, y_pred)"
   ]
  }
 ],
 "metadata": {
  "kernelspec": {
   "display_name": "tf_env",
   "language": "python",
   "name": "python3"
  },
  "language_info": {
   "codemirror_mode": {
    "name": "ipython",
    "version": 3
   },
   "file_extension": ".py",
   "mimetype": "text/x-python",
   "name": "python",
   "nbconvert_exporter": "python",
   "pygments_lexer": "ipython3",
   "version": "3.10.0"
  }
 },
 "nbformat": 4,
 "nbformat_minor": 2
}
