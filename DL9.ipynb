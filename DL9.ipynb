{
 "cells": [
  {
   "cell_type": "code",
   "execution_count": 24,
   "metadata": {},
   "outputs": [],
   "source": [
    "import numpy as np\n",
    "import pandas as pd\n",
    "from tensorflow.keras import layers,models\n",
    "import tensorflow as tf\n",
    "from tensorflow.keras.models import Sequential\n",
    "from sklearn.model_selection import train_test_split\n",
    "from sklearn.preprocessing import StandardScaler\n"
   ]
  },
  {
   "cell_type": "code",
   "execution_count": 15,
   "metadata": {},
   "outputs": [],
   "source": [
    "data  = pd.read_csv(\"datasets/creditCard/creditcard.csv\")\n",
    "\n",
    "x = data.drop(columns=['Time','Class'])\n",
    "y = data['Class']"
   ]
  },
  {
   "cell_type": "code",
   "execution_count": 16,
   "metadata": {},
   "outputs": [],
   "source": [
    "#Standardize the features\n",
    "scaler = StandardScaler()\n",
    "x = scaler.fit_transform(x)\n",
    "\n",
    "# seperate normal and fraud transactions\n",
    "x_normal = x[y==0]\n",
    "x_fraud = x[y==1]"
   ]
  },
  {
   "cell_type": "code",
   "execution_count": null,
   "metadata": {},
   "outputs": [],
   "source": [
    "x_train , x_test = train_test_split(x_normal , test_size=.25 , random_state=42)\n",
    "inputShape = x_train.shape[1]"
   ]
  },
  {
   "cell_type": "code",
   "execution_count": 25,
   "metadata": {},
   "outputs": [],
   "source": [
    "def autoEncoder_builder(ipShape):\n",
    "    model = Sequential()\n",
    "    #encoder layers\n",
    "    model.add(layers.Input(shape=(ipShape,)))\n",
    "    model.add(layers.Dense(32 , activation='relu'))\n",
    "    model.add(layers.Dense(16 , activation='relu'))\n",
    "    model.add(layers.Dense(8 , activation='relu'))\n",
    "    #decoder layers\n",
    "    model.add(layers.Dense(16, activation='relu'))\n",
    "    model.add(layers.Dense(32, activation='relu'))\n",
    "    model.add(layers.Dense(ipShape, activation='sigmoid'))\n",
    "    \n",
    "    return model\n"
   ]
  },
  {
   "cell_type": "code",
   "execution_count": 26,
   "metadata": {},
   "outputs": [
    {
     "name": "stdout",
     "output_type": "stream",
     "text": [
      "Model: \"sequential\"\n",
      "_________________________________________________________________\n",
      " Layer (type)                Output Shape              Param #   \n",
      "=================================================================\n",
      " dense_6 (Dense)             (None, 32)                960       \n",
      "                                                                 \n",
      " dense_7 (Dense)             (None, 16)                528       \n",
      "                                                                 \n",
      " dense_8 (Dense)             (None, 8)                 136       \n",
      "                                                                 \n",
      " dense_9 (Dense)             (None, 16)                144       \n",
      "                                                                 \n",
      " dense_10 (Dense)            (None, 32)                544       \n",
      "                                                                 \n",
      " dense_11 (Dense)            (None, 29)                957       \n",
      "                                                                 \n",
      "=================================================================\n",
      "Total params: 3,269\n",
      "Trainable params: 3,269\n",
      "Non-trainable params: 0\n",
      "_________________________________________________________________\n"
     ]
    }
   ],
   "source": [
    "autoEncoder = autoEncoder_builder(inputShape)\n",
    "autoEncoder.compile(optimizer='adam',loss=\"mse\")\n",
    "autoEncoder.summary() "
   ]
  },
  {
   "cell_type": "code",
   "execution_count": 29,
   "metadata": {},
   "outputs": [
    {
     "name": "stdout",
     "output_type": "stream",
     "text": [
      "Epoch 1/25\n",
      "6664/6664 [==============================] - 10s 1ms/step - loss: 0.8195 - val_loss: 0.7811\n",
      "Epoch 2/25\n",
      "6664/6664 [==============================] - 10s 1ms/step - loss: 0.7738 - val_loss: 0.7627\n",
      "Epoch 3/25\n",
      "6664/6664 [==============================] - 10s 2ms/step - loss: 0.7624 - val_loss: 0.7571\n",
      "Epoch 4/25\n",
      "6664/6664 [==============================] - 11s 2ms/step - loss: 0.7538 - val_loss: 0.7475\n",
      "Epoch 5/25\n",
      "6664/6664 [==============================] - 10s 1ms/step - loss: 0.7465 - val_loss: 0.7408\n",
      "Epoch 6/25\n",
      "6664/6664 [==============================] - 10s 2ms/step - loss: 0.7411 - val_loss: 0.7371\n",
      "Epoch 7/25\n",
      "6664/6664 [==============================] - 11s 2ms/step - loss: 0.7378 - val_loss: 0.7340\n",
      "Epoch 8/25\n",
      "6664/6664 [==============================] - 10s 1ms/step - loss: 0.7332 - val_loss: 0.7289\n",
      "Epoch 9/25\n",
      "6664/6664 [==============================] - 11s 2ms/step - loss: 0.7310 - val_loss: 0.7277\n",
      "Epoch 10/25\n",
      "6664/6664 [==============================] - 10s 1ms/step - loss: 0.7293 - val_loss: 0.7257\n",
      "Epoch 11/25\n",
      "6664/6664 [==============================] - 10s 1ms/step - loss: 0.7283 - val_loss: 0.7341\n",
      "Epoch 12/25\n",
      "6664/6664 [==============================] - 10s 1ms/step - loss: 0.7276 - val_loss: 0.7250\n",
      "Epoch 13/25\n",
      "6664/6664 [==============================] - 10s 1ms/step - loss: 0.7264 - val_loss: 0.7239\n",
      "Epoch 14/25\n",
      "6664/6664 [==============================] - 11s 2ms/step - loss: 0.7256 - val_loss: 0.7222\n",
      "Epoch 15/25\n",
      "6664/6664 [==============================] - 10s 1ms/step - loss: 0.7250 - val_loss: 0.7219\n",
      "Epoch 16/25\n",
      "6664/6664 [==============================] - 10s 1ms/step - loss: 0.7242 - val_loss: 0.7211\n",
      "Epoch 17/25\n",
      "6664/6664 [==============================] - 11s 2ms/step - loss: 0.7228 - val_loss: 0.7193\n",
      "Epoch 18/25\n",
      "6664/6664 [==============================] - 10s 2ms/step - loss: 0.7222 - val_loss: 0.7187\n",
      "Epoch 19/25\n",
      "6664/6664 [==============================] - 10s 2ms/step - loss: 0.7211 - val_loss: 0.7169\n",
      "Epoch 20/25\n",
      "6664/6664 [==============================] - 10s 1ms/step - loss: 0.7196 - val_loss: 0.7183\n",
      "Epoch 21/25\n",
      "6664/6664 [==============================] - 10s 1ms/step - loss: 0.7188 - val_loss: 0.7150\n",
      "Epoch 22/25\n",
      "6664/6664 [==============================] - 9s 1ms/step - loss: 0.7177 - val_loss: 0.7138\n",
      "Epoch 23/25\n",
      "6664/6664 [==============================] - 10s 1ms/step - loss: 0.7166 - val_loss: 0.7124\n",
      "Epoch 24/25\n",
      "6664/6664 [==============================] - 9s 1ms/step - loss: 0.7136 - val_loss: 0.7108\n",
      "Epoch 25/25\n",
      "6664/6664 [==============================] - 9s 1ms/step - loss: 0.7127 - val_loss: 0.7101\n"
     ]
    }
   ],
   "source": [
    "\n",
    "history = autoEncoder.fit(x_train,x_train, epochs=25, batch_size=32,shuffle=1, validation_data=(x_test,x_test) , verbose=1)"
   ]
  },
  {
   "cell_type": "code",
   "execution_count": 30,
   "metadata": {},
   "outputs": [
    {
     "data": {
      "image/png": "[encoded data removed]",
      "text/plain": [
       "<Figure size 640x480 with 1 Axes>"
      ]
     },
     "metadata": {},
     "output_type": "display_data"
    }
   ],
   "source": [
    "import matplotlib.pyplot as plt\n",
    "\n",
    "plt.plot(history.history['loss'], label='Training Loss')\n",
    "plt.plot(history.history['val_loss'], label='Validation Loss')\n",
    "plt.xlabel('Epochs')\n",
    "plt.ylabel('Loss')\n",
    "plt.legend()\n",
    "plt.show()"
   ]
  },
  {
   "cell_type": "code",
   "execution_count": 31,
   "metadata": {},
   "outputs": [
    {
     "name": "stdout",
     "output_type": "stream",
     "text": [
      "2222/2222 [==============================] - 2s 900us/step\n",
      "Reconstruction error threshold: 1.5136660789334195\n"
     ]
    }
   ],
   "source": [
    "# Calculate reconstruction error on the normal test set\n",
    "reconstructions = autoEncoder.predict(x_test)\n",
    "mse = np.mean(np.power(x_test - reconstructions, 2), axis=1)\n",
    "\n",
    "# Set a threshold as the 95th percentile of the reconstruction error\n",
    "threshold = np.percentile(mse, 95)\n",
    "print(f\"Reconstruction error threshold: {threshold}\")\n"
   ]
  },
  {
   "cell_type": "code",
   "execution_count": 32,
   "metadata": {},
   "outputs": [
    {
     "name": "stdout",
     "output_type": "stream",
     "text": [
      "8901/8901 [==============================] - 8s 875us/step\n"
     ]
    }
   ],
   "source": [
    "# Calculate reconstruction error on the full dataset\n",
    "x_reconstructions = autoEncoder.predict(x)\n",
    "mse_all = np.mean(np.power(x - x_reconstructions, 2), axis=1)\n",
    "\n",
    "# Detect anomalies\n",
    "y_pred = [1 if error > threshold else 0 for error in mse_all]\n",
    "\n",
    "\n"
   ]
  },
  {
   "cell_type": "code",
   "execution_count": 34,
   "metadata": {},
   "outputs": [
    {
     "name": "stdout",
     "output_type": "stream",
     "text": [
      "              precision    recall  f1-score   support\n",
      "\n",
      "           0       1.00      0.95      0.97    284315\n",
      "           1       0.03      0.88      0.06       492\n",
      "\n",
      "    accuracy                           0.95    284807\n",
      "   macro avg       0.51      0.91      0.52    284807\n",
      "weighted avg       1.00      0.95      0.97    284807\n",
      "\n"
     ]
    }
   ],
   "source": [
    "# Evaluate results\n",
    "from sklearn.metrics import classification_report, confusion_matrix\n",
    "# print(confusion_matrix(y, y_pred))\n",
    "print(classification_report(y, y_pred))"
   ]
  }
 ],
 "metadata": {
  "kernelspec": {
   "display_name": "tf_env",
   "language": "python",
   "name": "python3"
  },
  "language_info": {
   "codemirror_mode": {
    "name": "ipython",
    "version": 3
   },
   "file_extension": ".py",
   "mimetype": "text/x-python",
   "name": "python",
   "nbconvert_exporter": "python",
   "pygments_lexer": "ipython3",
   "version": "3.10.0"
  }
 },
 "nbformat": 4,
 "nbformat_minor": 2
}
