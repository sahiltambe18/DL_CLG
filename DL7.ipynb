{
 "cells": [
  {
   "cell_type": "code",
   "execution_count": 5,
   "metadata": {},
   "outputs": [],
   "source": [
    "import tensorflow as tf\n",
    "from tensorflow.keras.layers import Conv2D , Dense , Flatten , Dropout , MaxPool2D\n",
    "from tensorflow.keras.preprocessing.image import  ImageDataGenerator\n",
    "from tensorflow.keras.models import Sequential"
   ]
  },
  {
   "cell_type": "code",
   "execution_count": 4,
   "metadata": {},
   "outputs": [
    {
     "name": "stdout",
     "output_type": "stream",
     "text": [
      "Found 2870 images belonging to 4 classes.\n",
      "Found 394 images belonging to 4 classes.\n"
     ]
    }
   ],
   "source": [
    "path = \"D:\\Work\\python\\dl_clg\\datasets\\Brain_Tumor\\Training\"\n",
    "path2 = \"D:\\Work\\python\\dl_clg\\datasets\\Brain_Tumor\\Testing\"\n",
    "\n",
    "data_generator = ImageDataGenerator(rescale=1.0/255)\n",
    "\n",
    "trainData = data_generator.flow_from_directory(\n",
    "    path,\n",
    "    target_size=(64,64),\n",
    "    batch_size=32,\n",
    "    class_mode='categorical'\n",
    ")\n",
    "testData = data_generator.flow_from_directory(\n",
    "    path2,\n",
    "    target_size=(64,64),\n",
    "    batch_size=32,\n",
    "    class_mode='categorical'\n",
    ")\n"
   ]
  },
  {
   "cell_type": "code",
   "execution_count": 6,
   "metadata": {},
   "outputs": [],
   "source": [
    "model = Sequential([\n",
    "    Conv2D(32, (3,3), activation='relu', input_shape=(64, 64, 3)),\n",
    "    MaxPool2D(2,2),\n",
    "    Conv2D(64, (3,3), activation='relu'),\n",
    "    MaxPool2D(2,2),\n",
    "    Conv2D(128, (3,3), activation='relu'),\n",
    "    MaxPool2D(2,2),\n",
    "    Flatten(),\n",
    "    Dense(512, activation='relu'),\n",
    "    Dropout(0.5),\n",
    "    Dense(4, activation='softmax') \n",
    "])"
   ]
  },
  {
   "cell_type": "code",
   "execution_count": 12,
   "metadata": {},
   "outputs": [],
   "source": [
    "model.compile(loss=\"categorical_crossentropy\" , metrics=['accuracy'] , optimizer='adam')"
   ]
  },
  {
   "cell_type": "code",
   "execution_count": 13,
   "metadata": {},
   "outputs": [
    {
     "name": "stdout",
     "output_type": "stream",
     "text": [
      "Epoch 1/5\n",
      "90/90 [==============================] - 33s 316ms/step - loss: 1.0529 - accuracy: 0.5456 - val_loss: 2.0026 - val_accuracy: 0.3046\n",
      "Epoch 2/5\n",
      "90/90 [==============================] - 4s 48ms/step - loss: 0.6850 - accuracy: 0.7192 - val_loss: 2.1133 - val_accuracy: 0.4467\n",
      "Epoch 3/5\n",
      "90/90 [==============================] - 5s 50ms/step - loss: 0.4823 - accuracy: 0.8122 - val_loss: 1.9671 - val_accuracy: 0.5761\n",
      "Epoch 4/5\n",
      "90/90 [==============================] - 5s 51ms/step - loss: 0.4174 - accuracy: 0.8355 - val_loss: 2.1267 - val_accuracy: 0.5990\n",
      "Epoch 5/5\n",
      "90/90 [==============================] - 5s 56ms/step - loss: 0.2866 - accuracy: 0.8895 - val_loss: 2.6438 - val_accuracy: 0.6015\n"
     ]
    }
   ],
   "source": [
    "history = model.fit(trainData , epochs=5 , validation_data=testData ,batch_size=32)"
   ]
  },
  {
   "cell_type": "code",
   "execution_count": 14,
   "metadata": {},
   "outputs": [
    {
     "data": {
      "text/plain": [
       "[<matplotlib.lines.Line2D at 0x1a7c750dc90>]"
      ]
     },
     "execution_count": 14,
     "metadata": {},
     "output_type": "execute_result"
    },
    {
     "data": {
      "image/png": "[encoded data removed]",
      "text/plain": [
       "<Figure size 640x480 with 1 Axes>"
      ]
     },
     "metadata": {},
     "output_type": "display_data"
    }
   ],
   "source": [
    "import matplotlib.pyplot as plt\n",
    "\n",
    "plt.subplot(1,2,2)\n",
    "\n",
    "plt.plot(history.history['accuracy'] , label='accuracy')\n",
    "plt.plot(history.history['val_accuracy'] , label='val accuracy')"
   ]
  }
 ],
 "metadata": {
  "kernelspec": {
   "display_name": "tf_env",
   "language": "python",
   "name": "python3"
  },
  "language_info": {
   "codemirror_mode": {
    "name": "ipython",
    "version": 3
   },
   "file_extension": ".py",
   "mimetype": "text/x-python",
   "name": "python",
   "nbconvert_exporter": "python",
   "pygments_lexer": "ipython3",
   "version": "3.10.0"
  }
 },
 "nbformat": 4,
 "nbformat_minor": 2
}
