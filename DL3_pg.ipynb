{
 "cells": [
  {
   "cell_type": "markdown",
   "metadata": {
    "colab_type": "text",
    "id": "view-in-github"
   },
   "source": [
    "<a href=\"https://colab.research.google.com/github/sahiltambe18/DL_CLG/blob/main/Lab1_feedForward.ipynb\" target=\"_parent\"><img src=\"https://colab.research.google.com/assets/colab-badge.svg\" alt=\"Open In Colab\"/></a>"
   ]
  },
  {
   "cell_type": "code",
   "execution_count": 46,
   "metadata": {
    "id": "kQeGlfgHKPUf"
   },
   "outputs": [],
   "source": [
    "import tensorflow as tf\n",
    "from tensorflow.keras import layers\n",
    "from tensorflow.keras.optimizers import SGD\n",
    "from tensorflow.keras.models import Sequential\n",
    "\n",
    "import pandas as pd\n",
    "import numpy as np\n",
    "from sklearn.model_selection import train_test_split\n"
   ]
  },
  {
   "cell_type": "code",
   "execution_count": 47,
   "metadata": {},
   "outputs": [],
   "source": [
    "train = pd.read_csv(\"D:\\Work\\python\\dl_clg\\datasets\\mnistdigit\\mnist_784_csv.csv\")"
   ]
  },
  {
   "cell_type": "code",
   "execution_count": 48,
   "metadata": {},
   "outputs": [
    {
     "data": {
      "text/html": [
       "<div>\n",
       "<style scoped>\n",
       "    .dataframe tbody tr th:only-of-type {\n",
       "        vertical-align: middle;\n",
       "    }\n",
       "\n",
       "    .dataframe tbody tr th {\n",
       "        vertical-align: top;\n",
       "    }\n",
       "\n",
       "    .dataframe thead th {\n",
       "        text-align: right;\n",
       "    }\n",
       "</style>\n",
       "<table border=\"1\" class=\"dataframe\">\n",
       "  <thead>\n",
       "    <tr style=\"text-align: right;\">\n",
       "      <th></th>\n",
       "      <th>pixel1</th>\n",
       "      <th>pixel2</th>\n",
       "      <th>pixel3</th>\n",
       "      <th>pixel4</th>\n",
       "      <th>pixel5</th>\n",
       "      <th>pixel6</th>\n",
       "      <th>pixel7</th>\n",
       "      <th>pixel8</th>\n",
       "      <th>pixel9</th>\n",
       "      <th>pixel10</th>\n",
       "      <th>...</th>\n",
       "      <th>pixel776</th>\n",
       "      <th>pixel777</th>\n",
       "      <th>pixel778</th>\n",
       "      <th>pixel779</th>\n",
       "      <th>pixel780</th>\n",
       "      <th>pixel781</th>\n",
       "      <th>pixel782</th>\n",
       "      <th>pixel783</th>\n",
       "      <th>pixel784</th>\n",
       "      <th>class</th>\n",
       "    </tr>\n",
       "  </thead>\n",
       "  <tbody>\n",
       "    <tr>\n",
       "      <th>0</th>\n",
       "      <td>0</td>\n",
       "      <td>0</td>\n",
       "      <td>0</td>\n",
       "      <td>0</td>\n",
       "      <td>0</td>\n",
       "      <td>0</td>\n",
       "      <td>0</td>\n",
       "      <td>0</td>\n",
       "      <td>0</td>\n",
       "      <td>0</td>\n",
       "      <td>...</td>\n",
       "      <td>0</td>\n",
       "      <td>0</td>\n",
       "      <td>0</td>\n",
       "      <td>0</td>\n",
       "      <td>0</td>\n",
       "      <td>0</td>\n",
       "      <td>0</td>\n",
       "      <td>0</td>\n",
       "      <td>0</td>\n",
       "      <td>5</td>\n",
       "    </tr>\n",
       "    <tr>\n",
       "      <th>1</th>\n",
       "      <td>0</td>\n",
       "      <td>0</td>\n",
       "      <td>0</td>\n",
       "      <td>0</td>\n",
       "      <td>0</td>\n",
       "      <td>0</td>\n",
       "      <td>0</td>\n",
       "      <td>0</td>\n",
       "      <td>0</td>\n",
       "      <td>0</td>\n",
       "      <td>...</td>\n",
       "      <td>0</td>\n",
       "      <td>0</td>\n",
       "      <td>0</td>\n",
       "      <td>0</td>\n",
       "      <td>0</td>\n",
       "      <td>0</td>\n",
       "      <td>0</td>\n",
       "      <td>0</td>\n",
       "      <td>0</td>\n",
       "      <td>0</td>\n",
       "    </tr>\n",
       "    <tr>\n",
       "      <th>2</th>\n",
       "      <td>0</td>\n",
       "      <td>0</td>\n",
       "      <td>0</td>\n",
       "      <td>0</td>\n",
       "      <td>0</td>\n",
       "      <td>0</td>\n",
       "      <td>0</td>\n",
       "      <td>0</td>\n",
       "      <td>0</td>\n",
       "      <td>0</td>\n",
       "      <td>...</td>\n",
       "      <td>0</td>\n",
       "      <td>0</td>\n",
       "      <td>0</td>\n",
       "      <td>0</td>\n",
       "      <td>0</td>\n",
       "      <td>0</td>\n",
       "      <td>0</td>\n",
       "      <td>0</td>\n",
       "      <td>0</td>\n",
       "      <td>4</td>\n",
       "    </tr>\n",
       "    <tr>\n",
       "      <th>3</th>\n",
       "      <td>0</td>\n",
       "      <td>0</td>\n",
       "      <td>0</td>\n",
       "      <td>0</td>\n",
       "      <td>0</td>\n",
       "      <td>0</td>\n",
       "      <td>0</td>\n",
       "      <td>0</td>\n",
       "      <td>0</td>\n",
       "      <td>0</td>\n",
       "      <td>...</td>\n",
       "      <td>0</td>\n",
       "      <td>0</td>\n",
       "      <td>0</td>\n",
       "      <td>0</td>\n",
       "      <td>0</td>\n",
       "      <td>0</td>\n",
       "      <td>0</td>\n",
       "      <td>0</td>\n",
       "      <td>0</td>\n",
       "      <td>1</td>\n",
       "    </tr>\n",
       "    <tr>\n",
       "      <th>4</th>\n",
       "      <td>0</td>\n",
       "      <td>0</td>\n",
       "      <td>0</td>\n",
       "      <td>0</td>\n",
       "      <td>0</td>\n",
       "      <td>0</td>\n",
       "      <td>0</td>\n",
       "      <td>0</td>\n",
       "      <td>0</td>\n",
       "      <td>0</td>\n",
       "      <td>...</td>\n",
       "      <td>0</td>\n",
       "      <td>0</td>\n",
       "      <td>0</td>\n",
       "      <td>0</td>\n",
       "      <td>0</td>\n",
       "      <td>0</td>\n",
       "      <td>0</td>\n",
       "      <td>0</td>\n",
       "      <td>0</td>\n",
       "      <td>9</td>\n",
       "    </tr>\n",
       "  </tbody>\n",
       "</table>\n",
       "<p>5 rows × 785 columns</p>\n",
       "</div>"
      ],
      "text/plain": [
       "   pixel1  pixel2  pixel3  pixel4  pixel5  pixel6  pixel7  pixel8  pixel9  \\\n",
       "0       0       0       0       0       0       0       0       0       0   \n",
       "1       0       0       0       0       0       0       0       0       0   \n",
       "2       0       0       0       0       0       0       0       0       0   \n",
       "3       0       0       0       0       0       0       0       0       0   \n",
       "4       0       0       0       0       0       0       0       0       0   \n",
       "\n",
       "   pixel10  ...  pixel776  pixel777  pixel778  pixel779  pixel780  pixel781  \\\n",
       "0        0  ...         0         0         0         0         0         0   \n",
       "1        0  ...         0         0         0         0         0         0   \n",
       "2        0  ...         0         0         0         0         0         0   \n",
       "3        0  ...         0         0         0         0         0         0   \n",
       "4        0  ...         0         0         0         0         0         0   \n",
       "\n",
       "   pixel782  pixel783  pixel784  class  \n",
       "0         0         0         0      5  \n",
       "1         0         0         0      0  \n",
       "2         0         0         0      4  \n",
       "3         0         0         0      1  \n",
       "4         0         0         0      9  \n",
       "\n",
       "[5 rows x 785 columns]"
      ]
     },
     "execution_count": 48,
     "metadata": {},
     "output_type": "execute_result"
    }
   ],
   "source": [
    "train.head()"
   ]
  },
  {
   "cell_type": "code",
   "execution_count": 49,
   "metadata": {},
   "outputs": [],
   "source": [
    "# train.head()\n",
    "y = train['class'].values\n",
    "x = train.drop(columns=['class']).values"
   ]
  },
  {
   "cell_type": "code",
   "execution_count": 50,
   "metadata": {},
   "outputs": [],
   "source": [
    "x_train, x_test , y_train , y_test = train_test_split(x,y,test_size=.3)"
   ]
  },
  {
   "cell_type": "code",
   "execution_count": 51,
   "metadata": {
    "id": "3yUl8rsoKZ4D"
   },
   "outputs": [],
   "source": [
    "# Normalize the input data\n",
    "x_train = x_train.astype('float32') / 255\n",
    "x_test = x_test.astype('float32') / 255\n"
   ]
  },
  {
   "cell_type": "code",
   "execution_count": 52,
   "metadata": {},
   "outputs": [],
   "source": [
    "x_train = x_train.reshape(-1,28,28)\n",
    "x_test = x_test.reshape(-1,28,28)"
   ]
  },
  {
   "cell_type": "code",
   "execution_count": 53,
   "metadata": {},
   "outputs": [
    {
     "data": {
      "text/plain": [
       "(49000, 28, 28)"
      ]
     },
     "execution_count": 53,
     "metadata": {},
     "output_type": "execute_result"
    }
   ],
   "source": [
    "x_train.shape"
   ]
  },
  {
   "cell_type": "code",
   "execution_count": 54,
   "metadata": {
    "colab": {
     "base_uri": "https://localhost:8080/"
    },
    "id": "yLkPKKp8Kjv6",
    "outputId": "9f476c08-128c-4a97-b064-3a57cd2ed38a"
   },
   "outputs": [],
   "source": [
    "# c. Define the network architecture using Keras\n",
    "model = Sequential([\n",
    "    layers.Flatten(input_shape=(28, 28)),\n",
    "    layers.Dense(128, activation='relu'),\n",
    "    layers.Dense(64, activation='relu'),\n",
    "    layers.Dense(10, activation='softmax')\n",
    "])"
   ]
  },
  {
   "cell_type": "code",
   "execution_count": 64,
   "metadata": {
    "id": "AJgyIUeHKrxJ"
   },
   "outputs": [],
   "source": [
    "# Compile the model\n",
    "model.compile(optimizer=SGD(learning_rate=0.01),\n",
    "              loss='sparse_categorical_crossentropy',\n",
    "              metrics=['accuracy'])\n"
   ]
  },
  {
   "cell_type": "code",
   "execution_count": 65,
   "metadata": {
    "colab": {
     "base_uri": "https://localhost:8080/"
    },
    "id": "F3GLYZ9yKuqU",
    "outputId": "7c3a7a11-c2d8-4ac4-ef4c-72ffed02d531"
   },
   "outputs": [
    {
     "name": "stdout",
     "output_type": "stream",
     "text": [
      "Epoch 1/10\n",
      "1532/1532 [==============================] - 9s 5ms/step - loss: 0.0703 - accuracy: 0.9800 - val_loss: 0.0998 - val_accuracy: 0.9697\n",
      "Epoch 2/10\n",
      "1532/1532 [==============================] - 8s 5ms/step - loss: 0.0663 - accuracy: 0.9814 - val_loss: 0.0984 - val_accuracy: 0.9699\n",
      "Epoch 3/10\n",
      "1532/1532 [==============================] - 7s 5ms/step - loss: 0.0627 - accuracy: 0.9822 - val_loss: 0.1149 - val_accuracy: 0.9655\n",
      "Epoch 4/10\n",
      "1532/1532 [==============================] - 7s 5ms/step - loss: 0.0594 - accuracy: 0.9834 - val_loss: 0.0985 - val_accuracy: 0.9694\n",
      "Epoch 5/10\n",
      "1532/1532 [==============================] - 9s 6ms/step - loss: 0.0566 - accuracy: 0.9839 - val_loss: 0.0928 - val_accuracy: 0.9723\n",
      "Epoch 6/10\n",
      "1532/1532 [==============================] - 9s 6ms/step - loss: 0.0537 - accuracy: 0.9851 - val_loss: 0.0945 - val_accuracy: 0.9705\n",
      "Epoch 7/10\n",
      "1532/1532 [==============================] - 7s 5ms/step - loss: 0.0507 - accuracy: 0.9861 - val_loss: 0.0945 - val_accuracy: 0.9706\n",
      "Epoch 8/10\n",
      "1532/1532 [==============================] - 9s 6ms/step - loss: 0.0485 - accuracy: 0.9867 - val_loss: 0.0923 - val_accuracy: 0.9715\n",
      "Epoch 9/10\n",
      "1532/1532 [==============================] - 9s 6ms/step - loss: 0.0462 - accuracy: 0.9873 - val_loss: 0.0998 - val_accuracy: 0.9696\n",
      "Epoch 10/10\n",
      "1532/1532 [==============================] - 7s 5ms/step - loss: 0.0440 - accuracy: 0.9882 - val_loss: 0.0898 - val_accuracy: 0.9724\n"
     ]
    }
   ],
   "source": [
    "# d. Train the model using SGD\n",
    "history = model.fit(x_train, y_train, epochs=10, batch_size=32, validation_data=(x_test,y_test), verbose=1)\n"
   ]
  },
  {
   "cell_type": "code",
   "execution_count": 66,
   "metadata": {
    "colab": {
     "base_uri": "https://localhost:8080/"
    },
    "id": "xaZF3xT9KvSx",
    "outputId": "b19921ee-95cc-40fe-cafa-b685fde2e666"
   },
   "outputs": [
    {
     "name": "stdout",
     "output_type": "stream",
     "text": [
      "657/657 [==============================] - 2s 3ms/step - loss: 0.0898 - accuracy: 0.9724\n",
      "Test accuracy: 0.9724\n"
     ]
    }
   ],
   "source": [
    "# e. Evaluate the network\n",
    "test_loss, test_accuracy = model.evaluate(x_test, y_test, verbose=1)\n",
    "print(f\"Test accuracy: {test_accuracy:.4f}\")\n"
   ]
  },
  {
   "cell_type": "code",
   "execution_count": 68,
   "metadata": {
    "colab": {
     "base_uri": "https://localhost:8080/",
     "height": 407
    },
    "id": "48WuT0FQK3Mi",
    "outputId": "2365dde6-8a8f-4ddd-9b6f-97e02e332ea4"
   },
   "outputs": [
    {
     "data": {
      "image/png": "[encoded data removed]",
      "text/plain": [
       "<Figure size 1200x400 with 2 Axes>"
      ]
     },
     "metadata": {},
     "output_type": "display_data"
    }
   ],
   "source": [
    "# f. Plot the training loss and accuracy\n",
    "import matplotlib.pyplot as plt\n",
    "\n",
    "plt.figure(figsize=(12, 4))\n",
    "\n",
    "plt.subplot(1, 2, 1)\n",
    "plt.plot(history.history['loss'], label='Training Loss')\n",
    "plt.plot(history.history['val_loss'], label='Validation Loss')\n",
    "plt.title('Training and Validation Loss')\n",
    "plt.xlabel('Epoch')\n",
    "plt.ylabel('Loss')\n",
    "plt.legend()\n",
    "\n",
    "\n",
    "plt.subplot(1, 2, 2)\n",
    "plt.plot(history.history['accuracy'], label='Training Accuracy')\n",
    "plt.plot(history.history['val_accuracy'], label='Validation Accuracy')\n",
    "plt.title('Training and Validation Accuracy')\n",
    "plt.xlabel('Epoch')\n",
    "plt.ylabel('Accuracy')\n",
    "plt.legend()\n",
    "\n",
    "plt.tight_layout()\n",
    "plt.show()"
   ]
  },
  {
   "cell_type": "code",
   "execution_count": null,
   "metadata": {
    "id": "m7GW-miAK6wt"
   },
   "outputs": [],
   "source": []
  },
  {
   "cell_type": "markdown",
   "metadata": {},
   "source": [
    "\n",
    "1. What is a neural network?\n",
    "\"A neural network is like a digital brain that learns from examples. Think of it as layers of connected nodes, similar to how neurons in our brain are connected. Here's a simple way to understand it:\n",
    "- It takes input (like an image or numbers)\n",
    "- Processes it through multiple layers\n",
    "- Each layer learns different features\n",
    "- Finally gives you an output (like a prediction)\n",
    "For example, if you're teaching it to recognize cats, the first layer might learn edges, the next layer might learn shapes, and deeper layers might learn complex features like whiskers or ears.\"\n",
    "\n",
    "2. What is a perceptron?\n",
    "\"A perceptron is the building block of neural networks - think of it as a single artificial neuron. Here's how it works:\n",
    "- It takes multiple inputs (like a few numbers)\n",
    "- Each input has a weight (importance)\n",
    "- It combines these weighted inputs\n",
    "- If the combined value crosses a threshold, it activates (outputs 1, otherwise 0)\n",
    "It's like a simple decision-maker. For example, imagine deciding to carry an umbrella: you look at temperature (input 1) and cloud cover (input 2), give them importance (weights), and make a yes/no decision.\"\n",
    "\n",
    "3. How to build models in Keras?\n",
    "\"Let me explain the simplest way to build a model in Keras:\n",
    "```python\n",
    "from tensorflow.keras import Sequential\n",
    "from tensorflow.keras.layers import Dense\n",
    "\n",
    "model = Sequential([\n",
    "    Dense(64, activation='relu', input_shape=(10,)),\n",
    "    Dense(32, activation='relu'),\n",
    "    Dense(1, activation='sigmoid')\n",
    "])\n",
    "```\n",
    "It's like building a layer cake:\n",
    "- Start with the base layer (input)\n",
    "- Add hidden layers in the middle\n",
    "- Finish with the output layer\n",
    "- Then compile it with optimizer and loss function\n",
    "Each layer processes the data and passes it to the next layer.\"\n",
    "\n",
    "4. What is feed forward?\n",
    "\"Feed forward is the basic way neural networks process information:\n",
    "- Data flows in one direction only - from input to output\n",
    "- Like a factory assembly line:\n",
    "  * Input goes in at the start\n",
    "  * Each layer processes it in sequence\n",
    "  * Output comes out at the end\n",
    "- No loops or going backward\n",
    "- Information only moves forward through the network\n",
    "For example, if you're recognizing a handwritten number, the image data moves forward through layers until the network makes its prediction.\"\n",
    "\n",
    "5. What is SGD (Stochastic Gradient Descent)?\n",
    "\"SGD is a way for neural networks to learn. Here's a simple analogy:\n",
    "- Imagine you're walking down a hill blindfolded\n",
    "- You want to reach the bottom (the best solution)\n",
    "- You feel the ground around you to find which way is down\n",
    "- Take small steps in that direction\n",
    "- Keep doing this until you can't go lower\n",
    "\n",
    "In technical terms:\n",
    "- Takes random samples of training data\n",
    "- Calculates how wrong the predictions are\n",
    "- Adjusts the network slightly to do better\n",
    "- Repeats this process many times\n",
    "\n",
    "It's like learning to cook:\n",
    "- You taste the food (evaluate)\n",
    "- Adjust ingredients slightly (update weights)\n",
    "- Keep doing this until the taste is perfect (optimal solution)\"\n",
    "\n",
    "Additional Tips for Explaining:\n",
    "1. Use lots of real-world analogies\n",
    "2. Draw simple diagrams if possible\n",
    "3. Start with basic concepts before complex ones\n",
    "4. Encourage questions throughout\n",
    "5. Use examples from everyday life\n",
    "6. Break down complex terms into simpler language\n",
    "\n"
   ]
  }
 ],
 "metadata": {
  "accelerator": "GPU",
  "colab": {
   "authorship_tag": "ABX9TyOoh9N+gB9gYz9l9ZiRO4G7",
   "gpuType": "T4",
   "include_colab_link": true,
   "provenance": []
  },
  "kernelspec": {
   "display_name": "tf_env",
   "language": "python",
   "name": "python3"
  },
  "language_info": {
   "codemirror_mode": {
    "name": "ipython",
    "version": 3
   },
   "file_extension": ".py",
   "mimetype": "text/x-python",
   "name": "python",
   "nbconvert_exporter": "python",
   "pygments_lexer": "ipython3",
   "version": "3.10.0"
  }
 },
 "nbformat": 4,
 "nbformat_minor": 0
}
